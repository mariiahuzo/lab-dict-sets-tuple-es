{
 "cells": [
  {
   "cell_type": "markdown",
   "metadata": {},
   "source": [
    "## Desafío 1: Tuplas\n",
    "\n",
    "#### ¿Sabías que puedes crear tuplas con solo un elemento?\n",
    "\n",
    "**En la celda de abajo, define una variable `tup` con un único elemento `\"I\"`.**"
   ]
  },
  {
   "cell_type": "code",
   "execution_count": 8,
   "metadata": {},
   "outputs": [],
   "source": [
    "tup = (\"I\",)"
   ]
  },
  {
   "cell_type": "markdown",
   "metadata": {},
   "source": [
    "#### Imprime el tipo de `tup`.\n",
    "\n",
    "Asegúrate de que su tipo sea correcto (es decir, *tuple* en lugar de *str*)."
   ]
  },
  {
   "cell_type": "code",
   "execution_count": 9,
   "metadata": {},
   "outputs": [
    {
     "name": "stdout",
     "output_type": "stream",
     "text": [
      "<class 'tuple'>\n"
     ]
    }
   ],
   "source": [
    "print(type(tup))\n"
   ]
  },
  {
   "cell_type": "markdown",
   "metadata": {},
   "source": [
    "#### Ahora intenta agregar los siguientes elementos a `tup`.\n",
    "\n",
    "¿Puedes hacerlo? Explica.\n",
    "\n",
    "```\n",
    "\"r\", \"o\", \"n\", \"h\", \"a\", \"c\", \"k',\n",
    "```"
   ]
  },
  {
   "cell_type": "code",
   "execution_count": null,
   "metadata": {
    "scrolled": true
   },
   "outputs": [],
   "source": [
    "#Tuplas no se pueden cambiar"
   ]
  },
  {
   "cell_type": "markdown",
   "metadata": {},
   "source": [
    "#### ¿Qué tal si reasignas un nuevo valor a una tupla existente?\n",
    "\n",
    "Reasigna los siguientes elementos a `tup`. ¿Puedes hacerlo? Explica.\n",
    "\n",
    "```\n",
    "\"I\", \"r\", \"o\", \"n\", \"h\", \"a\", \"c\", \"k\"\n",
    "```"
   ]
  },
  {
   "cell_type": "code",
   "execution_count": 11,
   "metadata": {},
   "outputs": [],
   "source": [
    "tup=(\"I\", \"r\", \"o\", \"n\", \"h\", \"a\", \"c\", \"k\")"
   ]
  },
  {
   "cell_type": "markdown",
   "metadata": {},
   "source": [
    "#### Divide `tup` en `tup1` y `tup2` con 4 elementos en cada una.\n",
    "\n",
    "`tup1` debe ser `(\"I\", \"r\", \"o\", \"n\")` y `tup2` debe ser `(\"h\", \"a\", \"c\", \"k\")`.\n",
    "\n",
    "*Sugerencia: usa números de índice positivos para la asignación de `tup1` y números de índice negativos para la asignación de `tup2`. Los números de índice positivos cuentan desde el principio, mientras que los números de índice negativos cuentan desde el final de la secuencia.*\n",
    "\n",
    "También imprime `tup1` y `tup2`."
   ]
  },
  {
   "cell_type": "code",
   "execution_count": 88,
   "metadata": {},
   "outputs": [
    {
     "name": "stdout",
     "output_type": "stream",
     "text": [
      "('I', 'r', 'o', 'n')\n",
      "('h', 'a', 'c', 'k')\n"
     ]
    }
   ],
   "source": [
    "tup1 = tuple(list(tup)[0:4])\n",
    "tup2 = tuple(list(tup)[len(tup)-4:len(tup)])\n",
    "print(tup1)\n",
    "print(tup2)"
   ]
  },
  {
   "cell_type": "markdown",
   "metadata": {},
   "source": [
    "#### Suma `tup1` y `tup2` en `tup3` usando el operador `+`.\n",
    "\n",
    "Luego imprime `tup3` y verifica si `tup3` es igual a `tup`."
   ]
  },
  {
   "cell_type": "code",
   "execution_count": 94,
   "metadata": {},
   "outputs": [
    {
     "name": "stdout",
     "output_type": "stream",
     "text": [
      "('I', 'r', 'o', 'n', 'h', 'a', 'c', 'k')\n"
     ]
    },
    {
     "data": {
      "text/plain": [
       "True"
      ]
     },
     "execution_count": 94,
     "metadata": {},
     "output_type": "execute_result"
    }
   ],
   "source": [
    "tup3 = tup1 + tup2\n",
    "print(tup3)\n",
    "tup3 == tup"
   ]
  },
  {
   "cell_type": "markdown",
   "metadata": {},
   "source": [
    "#### Cuenta el número de elementos en `tup1` y `tup2`. Luego suma los dos conteos y verifica si la suma es igual al número de elementos en `tup3`."
   ]
  },
  {
   "cell_type": "code",
   "execution_count": 98,
   "metadata": {},
   "outputs": [
    {
     "data": {
      "text/plain": [
       "True"
      ]
     },
     "execution_count": 98,
     "metadata": {},
     "output_type": "execute_result"
    }
   ],
   "source": [
    "len(tup3)==len(tup1)+len(tup2)"
   ]
  },
  {
   "cell_type": "markdown",
   "metadata": {},
   "source": [
    "#### ¿Cuál es el número de índice de `\"h\"` en `tup3`?"
   ]
  },
  {
   "cell_type": "code",
   "execution_count": 102,
   "metadata": {},
   "outputs": [
    {
     "name": "stdout",
     "output_type": "stream",
     "text": [
      "4\n"
     ]
    }
   ],
   "source": [
    "i=tup3.index(\"h\")\n",
    "print(i)"
   ]
  },
  {
   "cell_type": "markdown",
   "metadata": {},
   "source": [
    "#### Ahora, usa un bucle FOR para verificar si cada letra en la siguiente lista está presente en `tup3`:\n",
    "\n",
    "\n",
    "```\n",
    "letters = [\"a\", \"b\", \"c\", \"d\", \"e\"]\n",
    "```\n",
    "\n",
    "\n",
    "Para cada letra que verifiques, imprime `True` si está presente en `tup3`, de lo contrario imprime `False`.\n",
    "\n",
    "*Sugerencia: solo necesitas hacer un bucle con `letters`. No necesitas hacer un bucle con `tup3` porque hay un operador de Python `in` que puedes usar. Consulta la [referencia](https://stackoverflow.com/questions/17920147/how-to-check-if-a-tuple-contains-an-element-in-python).*"
   ]
  },
  {
   "cell_type": "code",
   "execution_count": 120,
   "metadata": {},
   "outputs": [],
   "source": [
    "letters = [\"a\", \"b\", \"c\", \"d\", \"e\"]\n"
   ]
  },
  {
   "cell_type": "code",
   "execution_count": 119,
   "metadata": {},
   "outputs": [
    {
     "name": "stdout",
     "output_type": "stream",
     "text": [
      "True\n",
      "False\n",
      "True\n",
      "False\n",
      "False\n"
     ]
    }
   ],
   "source": [
    "for i in range(len(letters)):\n",
    "  print(letters[i] in tup3)"
   ]
  },
  {
   "cell_type": "markdown",
   "metadata": {},
   "source": [
    "#### ¿Cuántas veces aparece cada letra de `letters` en `tup3`?\n",
    "\n",
    "Imprime el número de ocurrencias de cada letra."
   ]
  },
  {
   "cell_type": "code",
   "execution_count": 143,
   "metadata": {},
   "outputs": [
    {
     "name": "stdout",
     "output_type": "stream",
     "text": [
      "Letra a aparece 1 vez\n",
      "Letra b aparece 0 vez\n",
      "Letra c aparece 1 vez\n",
      "Letra d aparece 0 vez\n",
      "Letra e aparece 0 vez\n"
     ]
    }
   ],
   "source": [
    "for i in range(len(letters)):\n",
    "  print(\"Letra\", letters[i], \"aparece\", tup3.count(letters[i]), \"vez\")"
   ]
  },
  {
   "cell_type": "markdown",
   "metadata": {},
   "source": [
    "## Desafío 2: Conjuntos\n",
    "\n",
    "Hay mucho que aprender sobre los Conjuntos en Python y la información presentada en la lección es limitada debido a su longitud. Para aprender a fondo sobre los Conjuntos en Python, te recomendamos encarecidamente que revises el tutorial de W3Schools sobre [Ejemplos y Métodos de Conjuntos en Python](https://www.w3schools.com/python/python_sets.asp) antes de trabajar en este laboratorio. Algunas preguntas difíciles de este laboratorio tienen sus soluciones en el tutorial de W3Schools.\n",
    "\n",
    "#### Primero, importa la biblioteca `random` de Python."
   ]
  },
  {
   "cell_type": "code",
   "execution_count": 6,
   "metadata": {},
   "outputs": [],
   "source": [
    "import random"
   ]
  },
  {
   "cell_type": "markdown",
   "metadata": {},
   "source": [
    "#### En la celda de abajo, crea una lista llamada `sample_list_1` con 80 valores aleatorios.\n",
    "\n",
    "Requisitos:\n",
    "\n",
    "* Cada valor es un entero entre 0 y 100.\n",
    "* Cada valor en la lista es único.\n",
    "\n",
    "Imprime `sample_list_1` para revisar sus valores.\n",
    "\n",
    "*Sugerencia: usa `random.sample` ([referencia](https://docs.python.org/3/library/random.html#random.sample)).*"
   ]
  },
  {
   "cell_type": "code",
   "execution_count": 7,
   "metadata": {},
   "outputs": [
    {
     "name": "stdout",
     "output_type": "stream",
     "text": [
      "[50, 44, 27, 52, 97, 26, 28, 45, 89, 33, 58, 43, 3, 42, 98, 90, 82, 71, 86, 13, 5, 51, 4, 38, 91, 41, 56, 37, 84, 34, 11, 48, 68, 47, 54, 7, 77, 73, 0, 78, 18, 69, 40, 30, 24, 92, 85, 22, 35, 67, 72, 65, 66, 9, 76, 17, 2, 12, 36, 61, 81, 21, 79, 49, 46, 96, 32, 23, 83, 19, 93, 20, 60, 87, 95, 70, 25, 6, 100, 53]\n"
     ]
    }
   ],
   "source": [
    "sample_list_1=random.sample(list(range(101)), 80)\n",
    "print(sample_list_1)"
   ]
  },
  {
   "cell_type": "markdown",
   "metadata": {},
   "source": [
    "#### Convierte `sample_list_1` en un conjunto llamado `set1`. Imprime la longitud del conjunto. ¿Su longitud sigue siendo 80?"
   ]
  },
  {
   "cell_type": "code",
   "execution_count": 8,
   "metadata": {},
   "outputs": [
    {
     "name": "stdout",
     "output_type": "stream",
     "text": [
      "80\n"
     ]
    }
   ],
   "source": [
    "set1=set(sample_list_1)\n",
    "print(len(set1))"
   ]
  },
  {
   "cell_type": "markdown",
   "metadata": {},
   "source": [
    "#### Crea otra lista llamada `sample_list_2` con 80 valores aleatorios.\n",
    "\n",
    "Requisitos:\n",
    "\n",
    "* Cada valor es un entero entre 0 y 100.\n",
    "* Los valores en la lista no tienen que ser únicos.\n",
    "\n",
    "*Sugerencia: Usa un bucle FOR.*"
   ]
  },
  {
   "cell_type": "code",
   "execution_count": 62,
   "metadata": {},
   "outputs": [
    {
     "name": "stdout",
     "output_type": "stream",
     "text": [
      "when i 0, then n 12\n",
      "when i 1, then n 77\n",
      "when i 2, then n 48\n",
      "when i 3, then n 0\n",
      "when i 4, then n 10\n",
      "when i 5, then n 57\n",
      "when i 6, then n 54\n",
      "when i 7, then n 8\n",
      "when i 8, then n 14\n",
      "when i 9, then n 56\n",
      "when i 10, then n 23\n",
      "when i 11, then n 83\n",
      "when i 12, then n 6\n",
      "when i 13, then n 84\n",
      "when i 14, then n 41\n",
      "when i 15, then n 59\n",
      "when i 16, then n 27\n",
      "when i 17, then n 34\n",
      "when i 18, then n 81\n",
      "when i 19, then n 54\n",
      "when i 20, then n 59\n",
      "when i 21, then n 8\n",
      "when i 22, then n 84\n",
      "when i 23, then n 1\n",
      "when i 24, then n 77\n",
      "when i 25, then n 82\n",
      "when i 26, then n 44\n",
      "when i 27, then n 93\n",
      "when i 28, then n 73\n",
      "when i 29, then n 8\n",
      "when i 30, then n 48\n",
      "when i 31, then n 14\n",
      "when i 32, then n 24\n",
      "when i 33, then n 15\n",
      "when i 34, then n 58\n",
      "when i 35, then n 43\n",
      "when i 36, then n 12\n",
      "when i 37, then n 78\n",
      "when i 38, then n 23\n",
      "when i 39, then n 43\n",
      "when i 40, then n 43\n",
      "when i 41, then n 80\n",
      "when i 42, then n 51\n",
      "when i 43, then n 60\n",
      "when i 44, then n 38\n",
      "when i 45, then n 65\n",
      "when i 46, then n 59\n",
      "when i 47, then n 95\n",
      "when i 48, then n 93\n",
      "when i 49, then n 16\n",
      "when i 50, then n 80\n",
      "when i 51, then n 4\n",
      "when i 52, then n 14\n",
      "when i 53, then n 22\n",
      "when i 54, then n 98\n",
      "when i 55, then n 14\n",
      "when i 56, then n 40\n",
      "when i 57, then n 24\n",
      "when i 58, then n 84\n",
      "when i 59, then n 22\n",
      "when i 60, then n 48\n",
      "when i 61, then n 23\n",
      "when i 62, then n 57\n",
      "when i 63, then n 14\n",
      "when i 64, then n 66\n",
      "when i 65, then n 54\n",
      "when i 66, then n 18\n",
      "when i 67, then n 92\n",
      "when i 68, then n 6\n",
      "when i 69, then n 39\n",
      "when i 70, then n 59\n",
      "when i 71, then n 17\n",
      "when i 72, then n 56\n",
      "when i 73, then n 91\n",
      "when i 74, then n 41\n",
      "when i 75, then n 91\n",
      "when i 76, then n 67\n",
      "when i 77, then n 14\n",
      "when i 78, then n 72\n",
      "[80, 12, 77, 48, 0, 10, 57, 54, 8, 14, 56, 23, 83, 6, 84, 41, 59, 27, 34, 81, 54, 59, 8, 84, 1, 77, 82, 44, 93, 73, 8, 48, 14, 24, 15, 58, 43, 12, 78, 23, 43, 43, 80, 51, 60, 38, 65, 59, 95, 93, 16, 80, 4, 14, 22, 98, 14, 40, 24, 84, 22, 48, 23, 57, 14, 66, 54, 18, 92, 6, 39, 59, 17, 56, 91, 41, 91, 67, 14, 72]\n"
     ]
    }
   ],
   "source": [
    "sample_list_2=[80]\n",
    "\n",
    "for i in range(0,79):\n",
    "    n = random.randint(0,100)\n",
    "    sample_list_2.append(n)\n",
    "    print(f\"when i {i}, then n {n}\")\n",
    "print( sample_list_2)"
   ]
  },
  {
   "cell_type": "markdown",
   "metadata": {},
   "source": [
    "#### Convierte `sample_list_2` en un conjunto llamado `set2`. Imprime la longitud del conjunto. ¿Su longitud sigue siendo 80?"
   ]
  },
  {
   "cell_type": "code",
   "execution_count": 86,
   "metadata": {},
   "outputs": [
    {
     "name": "stdout",
     "output_type": "stream",
     "text": [
      "48\n"
     ]
    }
   ],
   "source": [
    "set2=set(sample_list_2)\n",
    "print(len(set2))"
   ]
  },
  {
   "cell_type": "markdown",
   "metadata": {},
   "source": [
    "#### Identifica los elementos presentes en `set1` pero no en `set2`. Asigna los elementos a un nuevo conjunto llamado `set3`."
   ]
  },
  {
   "cell_type": "code",
   "execution_count": 84,
   "metadata": {},
   "outputs": [
    {
     "name": "stdout",
     "output_type": "stream",
     "text": [
      " 0 is present in both sets\n",
      " 4 is present in both sets\n",
      " 6 is present in both sets\n",
      " 12 is present in both sets\n",
      " 17 is present in both sets\n",
      " 18 is present in both sets\n",
      " 22 is present in both sets\n",
      " 23 is present in both sets\n",
      " 24 is present in both sets\n",
      " 27 is present in both sets\n",
      " 34 is present in both sets\n",
      " 38 is present in both sets\n",
      " 40 is present in both sets\n",
      " 41 is present in both sets\n",
      " 43 is present in both sets\n",
      " 44 is present in both sets\n",
      " 48 is present in both sets\n",
      " 51 is present in both sets\n",
      " 54 is present in both sets\n",
      " 56 is present in both sets\n",
      " 58 is present in both sets\n",
      " 60 is present in both sets\n",
      " 65 is present in both sets\n",
      " 66 is present in both sets\n",
      " 67 is present in both sets\n",
      " 72 is present in both sets\n",
      " 73 is present in both sets\n",
      " 77 is present in both sets\n",
      " 78 is present in both sets\n",
      " 81 is present in both sets\n",
      " 82 is present in both sets\n",
      " 83 is present in both sets\n",
      " 84 is present in both sets\n",
      " 91 is present in both sets\n",
      " 92 is present in both sets\n",
      " 93 is present in both sets\n",
      " 95 is present in both sets\n",
      " 98 is present in both sets\n",
      "{0, 2, 3, 4, 5, 6, 7, 9, 11, 12, 13, 17, 18, 19, 20, 21, 22, 23, 24, 25, 26, 27, 28, 30, 32, 33, 34, 35, 36, 37, 38, 40, 41, 42, 43, 44, 45, 46, 47, 48, 49, 50, 51, 52, 53, 54, 56, 58, 60, 61, 65, 66, 67, 68, 69, 70, 71, 72, 73, 76, 77, 78, 79, 81, 82, 83, 84, 85, 86, 87, 89, 90, 91, 92, 93, 95, 96, 97, 98, 100}\n",
      "{0, 1, 4, 6, 8, 10, 12, 14, 15, 16, 17, 18, 22, 23, 24, 27, 34, 38, 39, 40, 41, 43, 44, 48, 51, 54, 56, 57, 58, 59, 60, 65, 66, 67, 72, 73, 77, 78, 80, 81, 82, 83, 84, 91, 92, 93, 95, 98}\n",
      "{2, 3, 5, 7, 9, 11, 13, 19, 20, 21, 25, 26, 28, 30, 32, 33, 35, 36, 37, 42, 45, 46, 47, 49, 50, 52, 53, 61, 68, 69, 70, 71, 76, 79, 85, 86, 87, 89, 90, 96, 97, 100}\n"
     ]
    }
   ],
   "source": [
    "set3=set()\n",
    "for i in set1:\n",
    "    if i in set2:\n",
    "        print(f\" {i} is present in both sets\")\n",
    "    else: set3.add(i)\n",
    "print(set1)\n",
    "print(set2)\n",
    "print(set3)"
   ]
  },
  {
   "cell_type": "markdown",
   "metadata": {},
   "source": [
    "#### Identifica los elementos presentes en `set2` pero no en `set1`. Asigna los elementos a un nuevo conjunto llamado `set4`."
   ]
  },
  {
   "cell_type": "code",
   "execution_count": 85,
   "metadata": {},
   "outputs": [
    {
     "name": "stdout",
     "output_type": "stream",
     "text": [
      " 0 is present in both sets\n",
      " 4 is present in both sets\n",
      " 6 is present in both sets\n",
      " 12 is present in both sets\n",
      " 17 is present in both sets\n",
      " 18 is present in both sets\n",
      " 22 is present in both sets\n",
      " 23 is present in both sets\n",
      " 24 is present in both sets\n",
      " 27 is present in both sets\n",
      " 34 is present in both sets\n",
      " 38 is present in both sets\n",
      " 40 is present in both sets\n",
      " 41 is present in both sets\n",
      " 43 is present in both sets\n",
      " 44 is present in both sets\n",
      " 48 is present in both sets\n",
      " 51 is present in both sets\n",
      " 54 is present in both sets\n",
      " 56 is present in both sets\n",
      " 58 is present in both sets\n",
      " 60 is present in both sets\n",
      " 65 is present in both sets\n",
      " 66 is present in both sets\n",
      " 67 is present in both sets\n",
      " 72 is present in both sets\n",
      " 73 is present in both sets\n",
      " 77 is present in both sets\n",
      " 78 is present in both sets\n",
      " 81 is present in both sets\n",
      " 82 is present in both sets\n",
      " 83 is present in both sets\n",
      " 84 is present in both sets\n",
      " 91 is present in both sets\n",
      " 92 is present in both sets\n",
      " 93 is present in both sets\n",
      " 95 is present in both sets\n",
      " 98 is present in both sets\n",
      "{0, 1, 4, 6, 8, 10, 12, 14, 15, 16, 17, 18, 22, 23, 24, 27, 34, 38, 39, 40, 41, 43, 44, 48, 51, 54, 56, 57, 58, 59, 60, 65, 66, 67, 72, 73, 77, 78, 80, 81, 82, 83, 84, 91, 92, 93, 95, 98}\n",
      "{0, 2, 3, 4, 5, 6, 7, 9, 11, 12, 13, 17, 18, 19, 20, 21, 22, 23, 24, 25, 26, 27, 28, 30, 32, 33, 34, 35, 36, 37, 38, 40, 41, 42, 43, 44, 45, 46, 47, 48, 49, 50, 51, 52, 53, 54, 56, 58, 60, 61, 65, 66, 67, 68, 69, 70, 71, 72, 73, 76, 77, 78, 79, 81, 82, 83, 84, 85, 86, 87, 89, 90, 91, 92, 93, 95, 96, 97, 98, 100}\n",
      "{1, 39, 8, 10, 14, 15, 16, 80, 57, 59}\n"
     ]
    }
   ],
   "source": [
    "set4=set()\n",
    "for i in set2:\n",
    "    if i in set1:\n",
    "        print(f\" {i} is present in both sets\")\n",
    "    else: set4.add(i)\n",
    "print(set2)\n",
    "print(set1)\n",
    "print(set4)"
   ]
  },
  {
   "cell_type": "markdown",
   "metadata": {},
   "source": [
    "#### Ahora identifica los elementos compartidos entre `set1` y `set2`. Asigna los elementos a un nuevo conjunto llamado `set5`."
   ]
  },
  {
   "cell_type": "code",
   "execution_count": 88,
   "metadata": {},
   "outputs": [
    {
     "name": "stdout",
     "output_type": "stream",
     "text": [
      "elemento 2 is not in both sets\n",
      "elemento 3 is not in both sets\n",
      "elemento 5 is not in both sets\n",
      "elemento 7 is not in both sets\n",
      "elemento 9 is not in both sets\n",
      "elemento 11 is not in both sets\n",
      "elemento 13 is not in both sets\n",
      "elemento 19 is not in both sets\n",
      "elemento 20 is not in both sets\n",
      "elemento 21 is not in both sets\n",
      "elemento 25 is not in both sets\n",
      "elemento 26 is not in both sets\n",
      "elemento 28 is not in both sets\n",
      "elemento 30 is not in both sets\n",
      "elemento 32 is not in both sets\n",
      "elemento 33 is not in both sets\n",
      "elemento 35 is not in both sets\n",
      "elemento 36 is not in both sets\n",
      "elemento 37 is not in both sets\n",
      "elemento 42 is not in both sets\n",
      "elemento 45 is not in both sets\n",
      "elemento 46 is not in both sets\n",
      "elemento 47 is not in both sets\n",
      "elemento 49 is not in both sets\n",
      "elemento 50 is not in both sets\n",
      "elemento 52 is not in both sets\n",
      "elemento 53 is not in both sets\n",
      "elemento 61 is not in both sets\n",
      "elemento 68 is not in both sets\n",
      "elemento 69 is not in both sets\n",
      "elemento 70 is not in both sets\n",
      "elemento 71 is not in both sets\n",
      "elemento 76 is not in both sets\n",
      "elemento 79 is not in both sets\n",
      "elemento 85 is not in both sets\n",
      "elemento 86 is not in both sets\n",
      "elemento 87 is not in both sets\n",
      "elemento 89 is not in both sets\n",
      "elemento 90 is not in both sets\n",
      "elemento 96 is not in both sets\n",
      "elemento 97 is not in both sets\n",
      "elemento 100 is not in both sets\n",
      "{0, 4, 6, 12, 17, 18, 22, 23, 24, 27, 34, 38, 40, 41, 43, 44, 48, 51, 54, 56, 58, 60, 65, 66, 67, 72, 73, 77, 78, 81, 82, 83, 84, 91, 92, 93, 95, 98}\n"
     ]
    }
   ],
   "source": [
    "set5=set()\n",
    "for i in set1:\n",
    "    if i in set1 and i in set2:\n",
    "        set5.add(i)\n",
    "    else: print(f\"elemento {i} is not in both sets\")\n",
    "print(set5)"
   ]
  },
  {
   "cell_type": "markdown",
   "metadata": {},
   "source": [
    "#### ¿Cuál es la relación entre los siguientes valores?\n",
    "\n",
    "* len(set1)\n",
    "* len(set2)\n",
    "* len(set3)\n",
    "* len(set4)\n",
    "* len(set5)\n",
    "\n",
    "Usa una fórmula matemática para representar esa relación. Prueba tu fórmula con código Python."
   ]
  },
  {
   "cell_type": "code",
   "execution_count": 119,
   "metadata": {},
   "outputs": [
    {
     "name": "stdout",
     "output_type": "stream",
     "text": [
      "{'set1': {'set1': 80}, 'set2': {'set2': 48}, 'set3': {'set3': 42}, 'set4': {'set4': 10}, 'set5': {'set5': 38}}\n"
     ]
    }
   ],
   "source": [
    "all_dic = {}\n",
    "all_dic.update(set1={\"set1\":(len(set1))})\n",
    "all_dic.update(set2={\"set2\":(len(set2))})\n",
    "all_dic.update(set3={\"set3\":(len(set3))})\n",
    "all_dic.update(set4={\"set4\":(len(set4))})\n",
    "all_dic.update(set5={\"set5\":(len(set5))})\n",
    "print(all_dic)"
   ]
  },
  {
   "cell_type": "markdown",
   "metadata": {},
   "source": [
    "#### Crea un conjunto vacío llamado `set6`."
   ]
  },
  {
   "cell_type": "code",
   "execution_count": null,
   "metadata": {},
   "outputs": [],
   "source": [
    "# tu codigo aquí"
   ]
  },
  {
   "cell_type": "markdown",
   "metadata": {},
   "source": [
    "#### Añade `set3` y `set5` a `set6` usando el método `update` de los Conjuntos de Python."
   ]
  },
  {
   "cell_type": "code",
   "execution_count": null,
   "metadata": {},
   "outputs": [],
   "source": [
    "# tu codigo aquí"
   ]
  },
  {
   "cell_type": "markdown",
   "metadata": {},
   "source": [
    "#### Verifica si `set1` y `set6` son iguales."
   ]
  },
  {
   "cell_type": "code",
   "execution_count": null,
   "metadata": {},
   "outputs": [],
   "source": [
    "# tu codigo aquí"
   ]
  },
  {
   "cell_type": "markdown",
   "metadata": {},
   "source": [
    "#### Comprueba si `set1` contiene a `set2` utilizando el método `issubset` de los Conjuntos de Python. Luego verifica si `set1` contiene a `set3`."
   ]
  },
  {
   "cell_type": "code",
   "execution_count": null,
   "metadata": {},
   "outputs": [],
   "source": [
    "# tu codigo aquí"
   ]
  },
  {
   "cell_type": "markdown",
   "metadata": {},
   "source": [
    "#### Utilizando el método `union` de los Conjuntos de Python, agrega `set3`, `set4` y `set5`. Luego agrega `set1` y `set2`.\n",
    "\n",
    "#### Verifica si los valores agregados son iguales."
   ]
  },
  {
   "cell_type": "code",
   "execution_count": null,
   "metadata": {},
   "outputs": [],
   "source": [
    "# tu codigo aquí"
   ]
  },
  {
   "cell_type": "markdown",
   "metadata": {},
   "source": [
    "#### Utilizando el método `pop`, elimina el primer elemento de `set1`."
   ]
  },
  {
   "cell_type": "code",
   "execution_count": null,
   "metadata": {},
   "outputs": [],
   "source": [
    "# tu codigo aquí"
   ]
  },
  {
   "cell_type": "markdown",
   "metadata": {},
   "source": [
    "#### Elimina cada elemento en la siguiente lista de `set1` si están presentes en el conjunto. Imprime los elementos restantes.\n",
    "\n",
    "```\n",
    "list_to_remove = [1, 9, 11, 19, 21, 29, 31, 39, 41, 49, 51, 59, 61, 69, 71, 79, 81, 89, 91, 99]\n",
    "```"
   ]
  },
  {
   "cell_type": "code",
   "execution_count": null,
   "metadata": {},
   "outputs": [],
   "source": [
    "# tu codigo aquí"
   ]
  },
  {
   "cell_type": "markdown",
   "metadata": {},
   "source": [
    "## BONUS - Desafío 3: Diccionarios\n",
    "\n",
    "En este desafío practicarás cómo manipular diccionarios en Python. Antes de empezar este desafío, te animamos a revisar los [Ejemplos y Métodos de Diccionarios en Python](https://www.w3schools.com/python/python_dictionaries.asp) de W3School.\n",
    "\n",
    "Lo primero que practicarás es cómo ordenar las claves en un diccionario. A diferencia del objeto de lista, el diccionario de Python no tiene un método *sort* incorporado. Necesitarás usar bucles FOR para ordenar los diccionarios ya sea por clave o por valor.\n",
    "\n",
    "El diccionario a continuación es un resumen de la frecuencia de palabras de la canción *Shape of You* de Ed Sheeran. Cada clave es una palabra en la letra y el valor es el número de veces que esa palabra aparece en la letra."
   ]
  },
  {
   "cell_type": "code",
   "execution_count": null,
   "metadata": {},
   "outputs": [],
   "source": [
    "word_freq = {'love': 25, 'conversation': 1, 'every': 6, \"we're\": 1, 'plate': 1, 'sour': 1, 'jukebox': 1, 'now': 11, 'taxi': 1, 'fast': 1, 'bag': 1, 'man': 1, 'push': 3, 'baby': 14, 'going': 1, 'you': 16, \"don't\": 2, 'one': 1, 'mind': 2, 'backseat': 1, 'friends': 1, 'then': 3, 'know': 2, 'take': 1, 'play': 1, 'okay': 1, 'so': 2, 'begin': 1, 'start': 2, 'over': 1, 'body': 17, 'boy': 2, 'just': 1, 'we': 7, 'are': 1, 'girl': 2, 'tell': 1, 'singing': 2, 'drinking': 1, 'put': 3, 'our': 1, 'where': 1, \"i'll\": 1, 'all': 1, \"isn't\": 1, 'make': 1, 'lover': 1, 'get': 1, 'radio': 1, 'give': 1, \"i'm\": 23, 'like': 10, 'can': 1, 'doing': 2, 'with': 22, 'club': 1, 'come': 37, 'it': 1, 'somebody': 2, 'handmade': 2, 'out': 1, 'new': 6, 'room': 3, 'chance': 1, 'follow': 6, 'in': 27, 'may': 2, 'brand': 6, 'that': 2, 'magnet': 3, 'up': 3, 'first': 1, 'and': 23, 'pull': 3, 'of': 6, 'table': 1, 'much': 2, 'last': 3, 'i': 6, 'thrifty': 1, 'grab': 2, 'was': 2, 'driver': 1, 'slow': 1, 'dance': 1, 'the': 18, 'say': 2, 'trust': 1, 'family': 1, 'week': 1, 'date': 1, 'me': 10, 'do': 3, 'waist': 2, 'smell': 3, 'day': 6, 'although': 3, 'your': 21, 'leave': 1, 'want': 2, \"let's\": 2, 'lead': 6, 'at': 1, 'hand': 1, 'how': 1, 'talk': 4, 'not': 2, 'eat': 1, 'falling': 3, 'about': 1, 'story': 1, 'sweet': 1, 'best': 1, 'crazy': 2, 'let': 1, 'too': 5, 'van': 1, 'shots': 1, 'go': 2, 'to': 2, 'a': 8, 'my': 33, 'is': 5, 'place': 1, 'find': 1, 'shape': 6, 'on': 40, 'kiss': 1, 'were': 3, 'night': 3, 'heart': 3, 'for': 3, 'discovering': 6, 'something': 6, 'be': 16, 'bedsheets': 3, 'fill': 2, 'hours': 2, 'stop': 1, 'bar': 1}"
   ]
  },
  {
   "cell_type": "markdown",
   "metadata": {},
   "source": [
    "#### Ordena las claves de `word_freq` de forma ascendente.\n",
    "\n",
    "Por favor, crea un nuevo diccionario llamado `word_freq2` basado en `word_freq` con las claves ordenadas de forma ascendente.\n",
    "\n",
    "Hay varias formas de lograr ese objetivo, pero muchas de ellas van más allá de lo que hemos cubierto hasta ahora en el curso. Hay una forma que describiremos empleando lo que has aprendido. Por favor, siéntete libre de usar esta forma o cualquier otra que desees.\n",
    "\n",
    "1. Primero extrae las claves de `word_freq` y conviértelas en una lista llamada `keys`.\n",
    "\n",
    "1. Ordena la lista `keys`.\n",
    "\n",
    "1. Crea un diccionario vacío `word_freq2`.\n",
    "\n",
    "1. Usa un bucle FOR para iterar cada valor en `keys`. Para cada clave iterada, encuentra el valor correspondiente en `word_freq` e inserta el par clave-valor en `word_freq2`.\n",
    "\n",
    "📖 [Documentación para un bucle for](https://docs.python.org/3/reference/compound_stmts.html#for)\n",
    "\n",
    "Imprime `word_freq2` para examinar sus claves y valores. Tu salida debería ser:\n",
    "\n",
    "```python\n",
    "{'a': 8, 'about': 1, 'all': 1, 'although': 3, 'and': 23, 'are': 1, 'at': 1, 'baby': 14, 'backseat': 1, 'bag': 1, 'bar': 1, 'be': 16, 'bedsheets': 3, 'begin': 1, 'best': 1, 'body': 17, 'boy': 2, 'brand': 6, 'can': 1, 'chance': 1, 'club': 1, 'come': 37, 'conversation': 1, 'crazy': 2, 'dance': 1, 'date': 1, 'day': 6, 'discovering': 6, 'do': 3, 'doing': 2, \"don't\": 2, 'drinking': 1, 'driver': 1, 'eat': 1, 'every': 6, 'falling': 3, 'family': 1, 'fast': 1, 'fill': 2, 'find': 1, 'first': 1, 'follow': 6, 'for': 3, 'friends': 1, 'get': 1, 'girl': 2, 'give': 1, 'go': 2, 'going': 1, 'grab': 2, 'hand': 1, 'handmade': 2, 'heart': 3, 'hours': 2, 'how': 1, 'i': 6, \"i'll\": 1, \"i'm\": 23, 'in': 27, 'is': 5, \"isn't\": 1, 'it': 1, 'jukebox': 1, 'just': 1, 'kiss': 1, 'know': 2, 'last': 3, 'lead': 6, 'leave': 1, 'let': 1, \"let's\": 2, 'like': 10, 'love': 25, 'lover': 1, 'magnet': 3, 'make': 1, 'man': 1, 'may': 2, 'me': 10, 'mind': 2, 'much': 2, 'my': 33, 'new': 6, 'night': 3, 'not': 2, 'now': 11, 'of': 6, 'okay': 1, 'on': 40, 'one': 1, 'our': 1, 'out': 1, 'over': 1, 'place': 1, 'plate': 1, 'play': 1, 'pull': 3, 'push': 3, 'put': 3, 'radio': 1, 'room': 3, 'say': 2, 'shape': 6, 'shots': 1, 'singing': 2, 'slow': 1, 'smell': 3, 'so': 2, 'somebody': 2, 'something': 6, 'sour': 1, 'start': 2, 'stop': 1, 'story': 1, 'sweet': 1, 'table': 1, 'take': 1, 'talk': 4, 'taxi': 1, 'tell': 1, 'that': 2, 'the': 18, 'then': 3, 'thrifty': 1, 'to': 2, 'too': 5, 'trust': 1, 'up': 3, 'van': 1, 'waist': 2, 'want': 2, 'was': 2, 'we': 7, \"we're\": 1, 'week': 1, 'were': 3, 'where': 1, 'with': 22, 'you': 16, 'your': 21}\n",
    "```"
   ]
  },
  {
   "cell_type": "code",
   "execution_count": null,
   "metadata": {},
   "outputs": [],
   "source": [
    "# Tu codigo aquí"
   ]
  },
  {
   "cell_type": "markdown",
   "metadata": {},
   "source": [
    "#### Ordena los valores de `word_freq` de forma ascendente.\n",
    "\n",
    "Ordenar los valores de un diccionario es más complicado que ordenar las claves porque los valores de un diccionario no son únicos. Por lo tanto, no puedes usar la misma forma en que ordenaste las claves del diccionario para ordenar los valores del diccionario.\n",
    "\n",
    "La forma de ordenar un diccionario por valor es utilizar las funciones `sorted` y `operator.itemgetter`. El siguiente fragmento de código se te proporciona para que lo pruebes. Te dará una lista de tuplas en la que cada tupla contiene la clave y el valor de un elemento del diccionario. Y la lista está ordenada basada en el valor del diccionario ( [referencia](http://thomas-cokelaer.info/blog/2017/12/how-to-sort-a-dictionary-by-values-in-python/)\n",
    ").\n",
    "\n",
    "```python\n",
    "import operator\n",
    "sorted_tups = sorted(word_freq.items(), key=operator.itemgetter(1))\n",
    "print(sorted_tups)\n",
    "```\n",
    "\n",
    "Por lo tanto, los pasos para ordenar `word_freq` por valor son:\n",
    "\n",
    "* Utilizando `sorted` y `operator.itemgetter`, obtén una lista de tuplas de los pares clave-valor del diccionario que está ordenada por el valor.\n",
    "\n",
    "* Crea un diccionario vacío llamado `word_freq2`.\n",
    "\n",
    "* Itera la lista de tuplas. Inserta cada par clave-valor en `word_freq2` como un objeto.\n",
    "\n",
    "Imprime `word_freq2` para confirmar que tu diccionario tiene sus valores ordenados. Tu salida debería ser:\n",
    "\n",
    "```python\n",
    "{'conversation': 1, \"we're\": 1, 'plate': 1, 'sour': 1, 'jukebox': 1, 'taxi': 1, 'fast': 1, 'bag': 1, 'man': 1, 'going': 1, 'one': 1, 'backseat': 1, 'friends': 1, 'take': 1, 'play': 1, 'okay': 1, 'begin': 1, 'over': 1, 'just': 1, 'are': 1, 'tell': 1, 'drinking': 1, 'our': 1, 'where': 1, \"i'll\": 1, 'all': 1, \"isn't\": 1, 'make': 1, 'lover': 1, 'get': 1, 'radio': 1, 'give': 1, 'can': 1, 'club': 1, 'it': 1, 'out': 1, 'chance': 1, 'first': 1, 'table': 1, 'thrifty': 1, 'driver': 1, 'slow': 1, 'dance': 1, 'trust': 1, 'family': 1, 'week': 1, 'date': 1, 'leave': 1, 'at': 1, 'hand': 1, 'how': 1, 'eat': 1, 'about': 1, 'story': 1, 'sweet': 1, 'best': 1, 'let': 1, 'van': 1, 'shots': 1, 'place': 1, 'find': 1, 'kiss': 1, 'stop': 1, 'bar': 1, \"don't\": 2, 'mind': 2, 'know': 2, 'so': 2, 'start': 2, 'boy': 2, 'girl': 2, 'singing': 2, 'doing': 2, 'somebody': 2, 'handmade': 2, 'may': 2, 'that': 2, 'much': 2, 'grab': 2, 'was': 2, 'say': 2, 'waist': 2, 'want': 2, \"let's\": 2, 'not': 2, 'crazy': 2, 'go': 2, 'to': 2, 'fill': 2, 'hours': 2, 'push': 3, 'then': 3, 'put': 3, 'room': 3, 'magnet': 3, 'up': 3, 'pull': 3, 'last': 3, 'do': 3, 'smell': 3, 'although': 3, 'falling': 3, 'were': 3, 'night': 3, 'heart': 3, 'for': 3, 'bedsheets': 3, 'talk': 4, 'too': 5, 'is': 5, 'every': 6, 'new': 6, 'follow': 6, 'brand': 6, 'of': 6, 'i': 6, 'day': 6, 'lead': 6, 'shape': 6, 'discovering': 6, 'something': 6, 'we': 7, 'a': 8, 'like': 10, 'me': 10, 'now': 11, 'baby': 14, 'you': 16, 'be': 16, 'body': 17, 'the': 18, 'your': 21, 'with': 22, \"i'm\": 23, 'and': 23, 'love': 25, 'in': 27, 'my': 33, 'come': 37, 'on': 40}\n",
    "```"
   ]
  },
  {
   "cell_type": "code",
   "execution_count": null,
   "metadata": {},
   "outputs": [],
   "source": [
    "# Tu codigo aquí"
   ]
  }
 ],
 "metadata": {
  "kernelspec": {
   "display_name": "Python 3 (ipykernel)",
   "language": "python",
   "name": "python3"
  },
  "language_info": {
   "codemirror_mode": {
    "name": "ipython",
    "version": 3
   },
   "file_extension": ".py",
   "mimetype": "text/x-python",
   "name": "python",
   "nbconvert_exporter": "python",
   "pygments_lexer": "ipython3",
   "version": "3.10.12"
  },
  "vscode": {
   "interpreter": {
    "hash": "aee8b7b246df8f9039afb4144a1f6fd8d2ca17a180786b69acc140d282b71a49"
   }
  }
 },
 "nbformat": 4,
 "nbformat_minor": 2
}
